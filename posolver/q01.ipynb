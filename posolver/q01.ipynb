{
 "cells": [
  {
   "cell_type": "code",
   "execution_count": 1,
   "metadata": {},
   "outputs": [],
   "source": [
    "import ortools\n",
    "from ortools.linear_solver import pywraplp\n",
    "\n",
    "#Inicializa um solver\n",
    "solver = pywraplp.Solver.CreateSolver('SCIP')"
   ]
  },
  {
   "cell_type": "code",
   "execution_count": 2,
   "metadata": {},
   "outputs": [
    {
     "name": "stdout",
     "output_type": "stream",
     "text": [
      "Número de variáveis = 2\n"
     ]
    }
   ],
   "source": [
    "x1 = solver.IntVar(0, solver.infinity(), 'x1')\n",
    "x2 = solver.IntVar(0, solver.infinity(), 'x2')\n",
    "\n",
    "print('Número de variáveis =', solver.NumVariables())"
   ]
  },
  {
   "cell_type": "code",
   "execution_count": 3,
   "metadata": {},
   "outputs": [
    {
     "name": "stdout",
     "output_type": "stream",
     "text": [
      "Número de restrições = 5\n"
     ]
    }
   ],
   "source": [
    "# Restrições\n",
    "#1: \n",
    "solver.Add(x1 * 2 + x2 * 3 >= 30)\n",
    "\n",
    "#2: \n",
    "solver.Add(x1 * 0.25 <= 800)\n",
    "\n",
    "#3:\n",
    "solver.Add(x2 * 0.1 <= 200)\n",
    "\n",
    "#3: Restrição de não-negatividade\n",
    "solver.Add(x1 >= 0)\n",
    "solver.Add(x2 >= 0)\n",
    "\n",
    "print('Número de restrições =', solver.NumConstraints())"
   ]
  },
  {
   "cell_type": "code",
   "execution_count": 4,
   "metadata": {},
   "outputs": [],
   "source": [
    "# Função Objetivo\n",
    "solver.Maximize(x1 * 0.8 + x2 * 0.3)"
   ]
  },
  {
   "cell_type": "code",
   "execution_count": 5,
   "metadata": {},
   "outputs": [],
   "source": [
    "status = solver.Solve()"
   ]
  },
  {
   "cell_type": "code",
   "execution_count": 6,
   "metadata": {},
   "outputs": [
    {
     "name": "stdout",
     "output_type": "stream",
     "text": [
      "Solução:\n",
      "Valor Objetivo = 3160.0\n",
      "x1 = 3200.0\n",
      "x2 = 2000.0\n",
      "\n",
      "TIME:\n",
      "Resolvido em 307.000000 ms\n",
      "Resolvido em 0 iterações\n"
     ]
    }
   ],
   "source": [
    "if status == pywraplp.Solver.OPTIMAL:\n",
    "    print('Solução:')\n",
    "    print('Valor Objetivo =', solver.Objective().Value())\n",
    "    print('x1 =', x1.solution_value())\n",
    "    print('x2 =', x2.solution_value())\n",
    "else:\n",
    "    print('O problema não possui uma solução otimizada.')\n",
    "\n",
    "print('\\nTIME:')\n",
    "print('Resolvido em %f ms' % solver.wall_time())\n",
    "print('Resolvido em %d iterações' % solver.iterations())"
   ]
  }
 ],
 "metadata": {
  "interpreter": {
   "hash": "52e34435c7831c09a4aa2d02fd30141a446a27d0199922d94bf3c9bcaac3c6e4"
  },
  "kernelspec": {
   "display_name": "Python 3.8.10 64-bit",
   "name": "python3"
  },
  "language_info": {
   "codemirror_mode": {
    "name": "ipython",
    "version": 3
   },
   "file_extension": ".py",
   "mimetype": "text/x-python",
   "name": "python",
   "nbconvert_exporter": "python",
   "pygments_lexer": "ipython3",
   "version": "3.8.10"
  },
  "orig_nbformat": 4
 },
 "nbformat": 4,
 "nbformat_minor": 2
}
